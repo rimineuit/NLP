{
 "cells": [
  {
   "cell_type": "code",
   "execution_count": 3,
   "metadata": {},
   "outputs": [],
   "source": [
    "from selenium import webdriver\n",
    "from selenium.webdriver.common.by import By\n",
    "from selenium.webdriver.common.keys import Keys\n",
    "from selenium.webdriver.chrome.options import Options\n",
    "from selenium.webdriver.support.ui import WebDriverWait\n",
    "from selenium.webdriver.support import expected_conditions as EC\n",
    "import time\n",
    "from bs4 import BeautifulSoup"
   ]
  },
  {
   "cell_type": "code",
   "execution_count": 2,
   "metadata": {},
   "outputs": [],
   "source": [
    "\n",
    "def get_full_url(url='https://nhathuoclongchau.com.vn/benh'):\n",
    "    result = []\n",
    "# Open the target website\n",
    "    if url:\n",
    "        options = Options()\n",
    "        options.add_argument(\"--incognito\")\n",
    "        driver = webdriver.Chrome(options=options)\n",
    "        driver.get(url)\n",
    "        # Click the \"load more\" button until it's no longer available\n",
    "        name = ['Đầu', 'Cổ', 'Ngực', 'Bụng', 'Sinh dục', 'Tứ chi', 'Da']                                                                                                                        \n",
    "        for n in name:\n",
    "            try:\n",
    "                # Wait for the button to be clickable and then click it\n",
    "                button = WebDriverWait(driver, 30).until(\n",
    "                    EC.element_to_be_clickable((By.XPATH, f\"/html/body/div/div/div/div/div/div/div/div/h3//h3[@class='text-base font-semibold text-text-link' and contains(text(), '{n}')]\"))\n",
    "                )\n",
    "                button.click()\n",
    "                # Add a short delay after clicking the button\n",
    "                time.sleep(2)\n",
    "                while driver.find_element(By.XPATH,f\"/html/body/div/div/div/div/div/div/div/div/div/div/ul/li/div//svg[@class='text-text-primary']\"):\n",
    "                    next = WebDriverWait(driver, 30).until(\n",
    "                        EC.element_to_be_clickable(By.XPATH,f\"/html/body/div/div/div/div/div/div/div/div/div/div/ul/li/div//svg[@class='text-text-primary']\")\n",
    "                    )\n",
    "                    next.click()\n",
    "                    time.sleep(1)\n",
    "                    elements = driver.find_elements(By.XPATH, f\"/html/body/div/div/div/div/div/div/div/div/div/div/div//a\")\n",
    "                    hrefs = [element.get_attribute('href') for element in elements]\n",
    "\n",
    "                    result.extend(hrefs)\n",
    "                    time.sleep(1)\n",
    "            except:\n",
    "                # Break the loop if the button is not found or not clickable\n",
    "                break\n",
    "\n",
    "        # Find the target element and get its inner HTML\n",
    "        # html_content = driver.find_element(By.XPATH, \"//div[@class='container-lite']\").get_attribute('innerHTML')\n",
    "        # domain = driver.find_element(By.XPATH, \"//h1[@class='text-display3 umd:text-heading1 text-gray-7 font-bold']\").text\n",
    "        # Close the browser when done\n",
    "        driver.quit()\n",
    "        return result"
   ]
  },
  {
   "cell_type": "code",
   "execution_count": 54,
   "metadata": {},
   "outputs": [],
   "source": [
    "def get_full_url(url='https://nhathuoclongchau.com.vn/benh'):\n",
    "    result = []\n",
    "    \n",
    "    # Check if URL is provided\n",
    "    if url:\n",
    "        # Setup Chrome options for incognito mode\n",
    "        options = Options()\n",
    "        options.add_argument(\"--incognito\")\n",
    "        \n",
    "        # Initialize Chrome driver\n",
    "        driver = webdriver.Chrome(options=options)\n",
    "        driver.get(url)\n",
    "        \n",
    "        # Define the target names for each button to click\n",
    "        name = ['Đầu', 'Cổ', 'Ngực', 'Bụng', 'Sinh dục', 'Tứ chi', 'Da']\n",
    "        \n",
    "        for n in name:\n",
    "            try:\n",
    "                # Wait for the section header button and click it\n",
    "                button = WebDriverWait(driver, 5).until(\n",
    "                    EC.element_to_be_clickable((By.XPATH, f\"/html/body/div/div/div/div/div/div/div/div//h3[contains(@class, 'text-base font-semibold text-text-link') and contains(text(), '{n}')]\"))\n",
    "                )\n",
    "                button.click()\n",
    "                time.sleep(1)  # Small delay after clicking\n",
    "                try:\n",
    "                    # path_element = driver.find_element(By.XPATH, \"//ul[@class='flex list-none items-center']//li//div\").get_attribute('outerHTML')\n",
    "                    path_element = WebDriverWait(driver, 10).until(\n",
    "                         EC.presence_of_element_located((By.XPATH, \"//ul[@class='flex list-none items-center']//li//div//svg[@viewBox='0 0 25 24']\")).get_attribute('outerHTML')\n",
    "                        )\n",
    "                    result.append(path_element)\n",
    "                    print(\"Element found.\")\n",
    "                except:\n",
    "                    print(\"Element not found.\")\n",
    "                time.sleep(5)\n",
    "\n",
    "                # Click through \"next\" buttons to load all links\n",
    "                # while True:\n",
    "                #     try:\n",
    "                #         print(driver.find_elemen)\n",
    "                #         next_button = WebDriverWait(driver, 30).until(\n",
    "                #             EC.element_to_be_clickable((By.XPATH, \"(//svg)[2][contains(@class, 'text-text-primary')]\"))\n",
    "                #         )\n",
    "                #         print(next_button.get_attribute('outerHTML'))\n",
    "                #         next_button.click()\n",
    "                #         time.sleep(1)  # Delay for new content to load\n",
    "                        \n",
    "                #         # Get all links on the current page\n",
    "                #         elements = driver.find_elements(By.XPATH, \"/html/body/div/div/div/div/div/div/div/div/div/div/div//a\")\n",
    "                #         hrefs = [element.get_attribute('href') for element in elements if element.get_attribute('href')]\n",
    "                #         result.extend(hrefs)\n",
    "                        \n",
    "                #     except:\n",
    "                #         # Exit loop if no next button is found\n",
    "                #         break\n",
    "            except:\n",
    "                # If a button for a specific name is not clickable, continue to next name\n",
    "                continue\n",
    "        \n",
    "        # Close the browser after processing\n",
    "        \n",
    "    return result"
   ]
  },
  {
   "cell_type": "code",
   "execution_count": 55,
   "metadata": {},
   "outputs": [
    {
     "name": "stdout",
     "output_type": "stream",
     "text": [
      "Element not found.\n",
      "Element not found.\n",
      "Element not found.\n",
      "Element not found.\n",
      "Element not found.\n",
      "Element not found.\n",
      "Element not found.\n"
     ]
    }
   ],
   "source": [
    "result = get_full_url()"
   ]
  },
  {
   "cell_type": "code",
   "execution_count": 53,
   "metadata": {},
   "outputs": [
    {
     "ename": "IndexError",
     "evalue": "list index out of range",
     "output_type": "error",
     "traceback": [
      "\u001b[1;31m---------------------------------------------------------------------------\u001b[0m",
      "\u001b[1;31mIndexError\u001b[0m                                Traceback (most recent call last)",
      "Cell \u001b[1;32mIn[53], line 1\u001b[0m\n\u001b[1;32m----> 1\u001b[0m \u001b[43mresult\u001b[49m\u001b[43m[\u001b[49m\u001b[38;5;241;43m0\u001b[39;49m\u001b[43m]\u001b[49m\n",
      "\u001b[1;31mIndexError\u001b[0m: list index out of range"
     ]
    }
   ],
   "source": [
    "result[0]"
   ]
  }
 ],
 "metadata": {
  "kernelspec": {
   "display_name": "Python 3",
   "language": "python",
   "name": "python3"
  },
  "language_info": {
   "codemirror_mode": {
    "name": "ipython",
    "version": 3
   },
   "file_extension": ".py",
   "mimetype": "text/x-python",
   "name": "python",
   "nbconvert_exporter": "python",
   "pygments_lexer": "ipython3",
   "version": "3.12.7"
  }
 },
 "nbformat": 4,
 "nbformat_minor": 2
}
