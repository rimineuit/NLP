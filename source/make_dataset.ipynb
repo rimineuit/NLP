{
 "cells": [
  {
   "cell_type": "code",
   "execution_count": 2,
   "metadata": {},
   "outputs": [
    {
     "name": "stdout",
     "output_type": "stream",
     "text": [
      "Hoàn thành cập nhật các file JSON!\n"
     ]
    }
   ],
   "source": [
    "import os\n",
    "import json\n",
    "\n",
    "# Đường dẫn tới folder chứa các file JSON\n",
    "folder_path = 'chunked'  # Thay đổi thành đường dẫn thật của bạn\n",
    "\n",
    "# Lặp qua tất cả các file trong folder\n",
    "for filename in os.listdir(folder_path):\n",
    "    if filename.endswith('.json'):\n",
    "        file_path = os.path.join(folder_path, filename)\n",
    "\n",
    "        # Đọc nội dung file JSON\n",
    "        with open(file_path, 'r', encoding='utf-8') as f:\n",
    "            data = json.load(f)\n",
    "\n",
    "        # Kiểm tra và cập nhật các phần tử trong \"chunks\"\n",
    "        if 'chunks' in data and isinstance(data['chunks'], list):\n",
    "            for i,chunk in enumerate(data['chunks']):\n",
    "                chunk['id'] = f\"{filename.replace('.json', '')}_{i}\"\n",
    "\n",
    "        # Ghi lại nội dung đã sửa vào file\n",
    "        with open(file_path, 'w', encoding='utf-8') as f:\n",
    "            json.dump(data, f, ensure_ascii=False, indent=4)\n",
    "\n",
    "print(\"Hoàn thành cập nhật các file JSON!\")"
   ]
  },
  {
   "cell_type": "code",
   "execution_count": 18,
   "metadata": {},
   "outputs": [],
   "source": [
    "import pandas as pd\n",
    "import ast\n",
    "\n",
    "# Đọc tệp CSV\n",
    "df = pd.read_json('full_content_df.json')"
   ]
  },
  {
   "cell_type": "code",
   "execution_count": 19,
   "metadata": {},
   "outputs": [
    {
     "data": {
      "text/plain": [
       "79037"
      ]
     },
     "execution_count": 19,
     "metadata": {},
     "output_type": "execute_result"
    }
   ],
   "source": [
    "len(df)"
   ]
  },
  {
   "cell_type": "code",
   "execution_count": 17,
   "metadata": {},
   "outputs": [
    {
     "data": {
      "text/plain": [
       "content       Ung thư thực quản là gì?\\n\\nTình trạng các tế ...\n",
       "id                         longchau_baiviet_article_data13460_0\n",
       "id_baiviet                   longchau_baiviet_article_data13460\n",
       "Name: 0, dtype: object"
      ]
     },
     "execution_count": 17,
     "metadata": {},
     "output_type": "execute_result"
    }
   ],
   "source": [
    "df.loc[0]"
   ]
  },
  {
   "cell_type": "code",
   "execution_count": 8,
   "metadata": {},
   "outputs": [],
   "source": [
    "def convert_to_list(input_str):\n",
    "    # Loại bỏ dấu ngoặc vuông\n",
    "    input_str = input_str.strip('[]')\n",
    "    # Tách các phần tử bằng khoảng trắng và chuyển đổi thành danh sách số\n",
    "    elements = input_str.split()\n",
    "    return [float(x) for x in elements]"
   ]
  },
  {
   "cell_type": "code",
   "execution_count": 9,
   "metadata": {},
   "outputs": [],
   "source": [
    "# Chuyển đổi chuỗi 'embedding' thành danh sách số"
   ]
  },
  {
   "cell_type": "code",
   "execution_count": 3,
   "metadata": {},
   "outputs": [
    {
     "name": "stdout",
     "output_type": "stream",
     "text": [
      "Hoàn thành cập nhật các file JSON!\n"
     ]
    }
   ],
   "source": [
    "import os\n",
    "import json\n",
    "\n",
    "# Đường dẫn tới folder chứa các file JSON\n",
    "folder_path = 'all'  # Thay đổi thành đường dẫn thật của bạn\n",
    "\n",
    "# Lặp qua tất cả các file trong folder\n",
    "for filename in os.listdir(folder_path):\n",
    "    if filename.endswith('.json'):\n",
    "        file_path = os.path.join(folder_path, filename)\n",
    "\n",
    "        # Đọc nội dung file JSON\n",
    "        with open(file_path, 'r', encoding='utf-8') as f:\n",
    "            data = json.load(f)\n",
    "\n",
    "        # Kiểm tra và cập nhật các phần tử trong danh sách JSON\n",
    "        for item in data:\n",
    "            # Thêm trường \"id\"\n",
    "            item['id'] = f\"{filename.replace('.json', '')}_{item['index']}\"\n",
    "            # Xóa trường \"index\"\n",
    "            del item['index']\n",
    "\n",
    "        # Ghi lại nội dung đã sửa vào file\n",
    "        with open(file_path, 'w', encoding='utf-8') as f:\n",
    "            json.dump(data, f, ensure_ascii=False, indent=4)\n",
    "\n",
    "print(\"Hoàn thành cập nhật các file JSON!\")\n"
   ]
  },
  {
   "cell_type": "code",
   "execution_count": 5,
   "metadata": {},
   "outputs": [
    {
     "name": "stdout",
     "output_type": "stream",
     "text": [
      "Hoàn thành việc tạo trường list_id trong các file JSON!\n"
     ]
    }
   ],
   "source": [
    "import os\n",
    "import json\n",
    "\n",
    "# Đường dẫn tới hai folder\n",
    "folder_full_content = 'vinmec_full_content'  # Folder chứa các file có trường \"full_content\"\n",
    "folder_chunks = 'vinmec_chunked'  # Folder chứa các file có \"chunks\"\n",
    "\n",
    "# Đường dẫn để lưu kết quả (có thể là folder_full_content nếu muốn ghi đè)\n",
    "output_folder = 'vinmec_full_content'\n",
    "\n",
    "# Tạo folder lưu kết quả nếu chưa tồn tại\n",
    "os.makedirs(output_folder, exist_ok=True)\n",
    "\n",
    "# Lặp qua các file trong folder chứa full_content\n",
    "for filename in os.listdir(folder_full_content):\n",
    "    if filename.endswith('.json'):\n",
    "        # Đường dẫn file\n",
    "        full_content_path = os.path.join(folder_full_content, filename)\n",
    "        chunks_path = os.path.join(folder_chunks, filename)\n",
    "\n",
    "        # Chỉ xử lý nếu file tồn tại ở cả hai folder\n",
    "        if os.path.exists(chunks_path):\n",
    "            # Đọc file \"full_content\"\n",
    "            with open(full_content_path, 'r', encoding='utf-8') as f:\n",
    "                full_content_data = json.load(f)\n",
    "\n",
    "            # Đọc file \"chunks\"\n",
    "            with open(chunks_path, 'r', encoding='utf-8') as f:\n",
    "                chunks_data = json.load(f)\n",
    "\n",
    "            # Lấy tất cả các ID từ \"chunks\"\n",
    "            list_id = [chunk['id'] for chunk in chunks_data['chunks']]\n",
    "\n",
    "            # Thêm \"list_id\" vào file \"full_content\"\n",
    "            full_content_data['list_id'] = list_id\n",
    "\n",
    "            # Lưu file mới vào thư mục kết quả\n",
    "            output_path = os.path.join(output_folder, filename)\n",
    "            with open(output_path, 'w', encoding='utf-8') as f:\n",
    "                json.dump(full_content_data, f, ensure_ascii=False, indent=4)\n",
    "\n",
    "print(\"Hoàn thành việc tạo trường list_id trong các file JSON!\")\n"
   ]
  }
 ],
 "metadata": {
  "kernelspec": {
   "display_name": "Python 3",
   "language": "python",
   "name": "python3"
  },
  "language_info": {
   "codemirror_mode": {
    "name": "ipython",
    "version": 3
   },
   "file_extension": ".py",
   "mimetype": "text/x-python",
   "name": "python",
   "nbconvert_exporter": "python",
   "pygments_lexer": "ipython3",
   "version": "3.12.8"
  }
 },
 "nbformat": 4,
 "nbformat_minor": 2
}
